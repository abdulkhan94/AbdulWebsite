{
 "cells": [
  {
   "cell_type": "code",
   "execution_count": 2,
   "metadata": {},
   "outputs": [],
   "source": [
    "import requests"
   ]
  },
  {
   "cell_type": "code",
   "execution_count": 58,
   "metadata": {},
   "outputs": [
    {
     "name": "stdout",
     "output_type": "stream",
     "text": [
      "{'year': 2012, 'country': 'usa'}\n"
     ]
    }
   ],
   "source": [
    "res = requests.get(\"http://127.0.0.1:5000/video/argo\")\n",
    "data = res.json()\n",
    "print(res.json())"
   ]
  },
  {
   "cell_type": "code",
   "execution_count": 51,
   "metadata": {},
   "outputs": [
    {
     "name": "stdout",
     "output_type": "stream",
     "text": [
      "2012\n",
      "usa\n"
     ]
    }
   ],
   "source": [
    "for vals in data.values():\n",
    "    print(vals)"
   ]
  },
  {
   "cell_type": "code",
   "execution_count": 82,
   "metadata": {},
   "outputs": [
    {
     "name": "stdout",
     "output_type": "stream",
     "text": [
      "{'argo': {'year': 2012, 'country': 'usa'}, 'hp7': {'year': 2010, 'country': 'usa'}, 'hp5': {'year': 2007, 'country': 'usa'}}\n"
     ]
    }
   ],
   "source": [
    "respon = requests.put(\"http://127.0.0.1:5000/video/hp5\", {\"year\":2007, \"country\":\"usa\"})\n",
    "print(respon.json())"
   ]
  },
  {
   "cell_type": "code",
   "execution_count": 83,
   "metadata": {
    "jupyter": {
     "source_hidden": true
    }
   },
   "outputs": [
    {
     "name": "stdout",
     "output_type": "stream",
     "text": [
      "{'year': 2007, 'country': 'usa'}\n"
     ]
    }
   ],
   "source": [
    "checker = requests.get(\"http://127.0.0.1:5000/video/hp5\")\n",
    "print(checker.json())"
   ]
  },
  {
   "cell_type": "code",
   "execution_count": 68,
   "metadata": {},
   "outputs": [
    {
     "name": "stdout",
     "output_type": "stream",
     "text": [
      "{'year': '2007', 'country': 'usa'}\n"
     ]
    }
   ],
   "source": [
    "res = requests.get(\"http://127.0.0.1:5000/video/hp5\")\n",
    "data = res.json()\n",
    "print(res.json())"
   ]
  },
  {
   "cell_type": "code",
   "execution_count": null,
   "metadata": {},
   "outputs": [],
   "source": []
  },
  {
   "cell_type": "code",
   "execution_count": 84,
   "metadata": {},
   "outputs": [
    {
     "name": "stdout",
     "output_type": "stream",
     "text": [
      "{'argo': {'year': 2012, 'country': 'usa'}, 'hp7': {'year': 2010, 'country': 'usa'}, 'hp5': {'year': 2007, 'country': 'usa'}, 'hp9': {'year': 2050, 'country': 'usa'}}\n"
     ]
    }
   ],
   "source": [
    "respon = requests.put(\"http://127.0.0.1:5000/video/hp9\", {\"year\":2050, \"country\":\"usa\"})\n",
    "print(respon.json())"
   ]
  },
  {
   "cell_type": "code",
   "execution_count": 92,
   "metadata": {},
   "outputs": [
    {
     "name": "stdout",
     "output_type": "stream",
     "text": [
      "{'year': 2010, 'country': 'usa'}\n"
     ]
    }
   ],
   "source": [
    "checker = requests.get(\"http://127.0.0.1:5000/video/hp7\")\n",
    "print(checker.json())"
   ]
  },
  {
   "cell_type": "code",
   "execution_count": 175,
   "metadata": {},
   "outputs": [
    {
     "name": "stdout",
     "output_type": "stream",
     "text": [
      "<Response [200]>\n"
     ]
    }
   ],
   "source": [
    "respon = requests.put(\"http://127.0.0.1:5000/video/hp9\", {\"year\":2050, \"country\":\"usa\"})\n",
    "#print(respon.json())\n",
    "print(respon)"
   ]
  },
  {
   "cell_type": "code",
   "execution_count": 170,
   "metadata": {},
   "outputs": [
    {
     "name": "stdout",
     "output_type": "stream",
     "text": [
      "{'year': 2050, 'country': 'usa'}\n",
      "<Response [202]>\n"
     ]
    }
   ],
   "source": [
    "print(checker.json())\n",
    "print(checker)"
   ]
  },
  {
   "cell_type": "code",
   "execution_count": 171,
   "metadata": {},
   "outputs": [],
   "source": [
    "deleter = requests.delete(\"http://127.0.0.1:5000/video/hp9\")\n"
   ]
  },
  {
   "cell_type": "code",
   "execution_count": 173,
   "metadata": {},
   "outputs": [
    {
     "name": "stdout",
     "output_type": "stream",
     "text": [
      "<Response [204]>\n"
     ]
    }
   ],
   "source": [
    "print(deleter)"
   ]
  },
  {
   "cell_type": "code",
   "execution_count": 208,
   "metadata": {},
   "outputs": [
    {
     "name": "stdout",
     "output_type": "stream",
     "text": [
      "{'video_id': 'hp9', 'year': 2050, 'country': 'usa'}\n"
     ]
    }
   ],
   "source": [
    "checker = requests.get(\"http://127.0.0.1:5000/video/hp9\")\n",
    "print(checker.json())"
   ]
  },
  {
   "cell_type": "code",
   "execution_count": 231,
   "metadata": {},
   "outputs": [
    {
     "name": "stdout",
     "output_type": "stream",
     "text": [
      "<Response [200]>\n"
     ]
    }
   ],
   "source": [
    "respon = requests.put(\"http://127.0.0.1:5000/video/hp11\", {\"year\":2011, \"country\":\"usa\"})\n",
    "#print(respon.json())\n",
    "print(respon)"
   ]
  },
  {
   "cell_type": "code",
   "execution_count": 234,
   "metadata": {},
   "outputs": [
    {
     "name": "stdout",
     "output_type": "stream",
     "text": [
      "{'message': 'video_id not found'}\n"
     ]
    }
   ],
   "source": [
    "checker = requests.get(\"http://127.0.0.1:5000/video/hp11\")\n",
    "print(checker.json())"
   ]
  },
  {
   "cell_type": "code",
   "execution_count": 233,
   "metadata": {},
   "outputs": [
    {
     "name": "stdout",
     "output_type": "stream",
     "text": [
      "<Response [200]>\n"
     ]
    }
   ],
   "source": [
    "deleter = requests.delete(\"http://127.0.0.1:5000/video/hp11\")\n",
    "print(deleter)"
   ]
  },
  {
   "cell_type": "code",
   "execution_count": null,
   "metadata": {},
   "outputs": [],
   "source": []
  }
 ],
 "metadata": {
  "kernelspec": {
   "display_name": "Python 3",
   "language": "python",
   "name": "python3"
  },
  "language_info": {
   "codemirror_mode": {
    "name": "ipython",
    "version": 3
   },
   "file_extension": ".py",
   "mimetype": "text/x-python",
   "name": "python",
   "nbconvert_exporter": "python",
   "pygments_lexer": "ipython3",
   "version": "3.8.5"
  }
 },
 "nbformat": 4,
 "nbformat_minor": 4
}
