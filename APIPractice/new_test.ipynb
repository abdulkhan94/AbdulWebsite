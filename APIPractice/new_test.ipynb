{
 "cells": [
  {
   "cell_type": "code",
   "execution_count": 130,
   "metadata": {},
   "outputs": [
    {
     "data": {
      "text/plain": [
       "'Heavy Cloud'"
      ]
     },
     "execution_count": 130,
     "metadata": {},
     "output_type": "execute_result"
    }
   ],
   "source": [
    "import requests\n",
    "import json\n",
    "\n",
    "r = requests.get(f'https://www.metaweather.com/api/location/2487956/2020/9/1')\n",
    "weather_data = r.json()\n",
    "current_weather = weather_data[0]['weather_state_name']\n",
    "current_weather"
   ]
  },
  {
   "cell_type": "code",
   "execution_count": 25,
   "metadata": {},
   "outputs": [
    {
     "data": {
      "text/plain": [
       "{'Current Weather': 'Heavy Cloud'}"
      ]
     },
     "execution_count": 25,
     "metadata": {},
     "output_type": "execute_result"
    }
   ],
   "source": [
    "a = requests.get('http://127.0.0.1:5000/weather/2487956/2020/9/1')\n",
    "a.json()"
   ]
  },
  {
   "cell_type": "code",
   "execution_count": 111,
   "metadata": {},
   "outputs": [
    {
     "data": {
      "text/plain": [
       "200"
      ]
     },
     "execution_count": 111,
     "metadata": {},
     "output_type": "execute_result"
    }
   ],
   "source": [
    "a = requests.put('http://127.0.0.1:5000/person/kingkhan',{'username':'Abdullah','email':'a@gmail.com'})\n",
    "a.json()"
   ]
  },
  {
   "cell_type": "code",
   "execution_count": 42,
   "metadata": {},
   "outputs": [
    {
     "data": {
      "text/plain": [
       "{'userid': 'kingkhan', 'username': 'Abdullah', 'email': 'a@gmail.com'}"
      ]
     },
     "execution_count": 42,
     "metadata": {},
     "output_type": "execute_result"
    }
   ],
   "source": [
    "a = requests.get('http://127.0.0.1:5000/person/kingkhan')\n",
    "a.json()"
   ]
  },
  {
   "cell_type": "code",
   "execution_count": 43,
   "metadata": {},
   "outputs": [
    {
     "name": "stdout",
     "output_type": "stream",
     "text": [
      "<Response [200]>\n"
     ]
    }
   ],
   "source": [
    "print(a)"
   ]
  },
  {
   "cell_type": "code",
   "execution_count": 44,
   "metadata": {},
   "outputs": [
    {
     "name": "stdout",
     "output_type": "stream",
     "text": [
      "<Response [200]>\n"
     ]
    }
   ],
   "source": [
    "a = requests.delete('http://127.0.0.1:5000/person/kingkhan')\n",
    "print(a)"
   ]
  },
  {
   "cell_type": "code",
   "execution_count": 55,
   "metadata": {},
   "outputs": [],
   "source": [
    "from datetime import datetime, timedelta, time"
   ]
  },
  {
   "cell_type": "code",
   "execution_count": 63,
   "metadata": {},
   "outputs": [
    {
     "name": "stdout",
     "output_type": "stream",
     "text": [
      "2021-03-22 & 2021-02-20\n"
     ]
    }
   ],
   "source": [
    "now = date.today()\n",
    "delt = timedelta(days = 30)\n",
    "rang = now - delt\n",
    "print(f'{now} & {rang}')"
   ]
  },
  {
   "cell_type": "code",
   "execution_count": 76,
   "metadata": {},
   "outputs": [
    {
     "data": {
      "text/plain": [
       "{'id': 6363587879632896,\n",
       " 'weather_state_name': 'Light Cloud',\n",
       " 'weather_state_abbr': 'lc',\n",
       " 'wind_direction_compass': 'NW',\n",
       " 'created': '2021-03-23T03:24:03.991424Z',\n",
       " 'applicable_date': '2021-03-22',\n",
       " 'min_temp': 7.96,\n",
       " 'max_temp': 14.315,\n",
       " 'the_temp': 15.3,\n",
       " 'wind_speed': 9.381270993223573,\n",
       " 'wind_direction': 309.9048869789122,\n",
       " 'air_pressure': 1020.5,\n",
       " 'humidity': 56,\n",
       " 'visibility': 16.61546568042631,\n",
       " 'predictability': 70}"
      ]
     },
     "execution_count": 76,
     "metadata": {},
     "output_type": "execute_result"
    }
   ],
   "source": [
    "## Get todays weather\n",
    "dat = f'{now.year}/{now.month}/{now.day}'\n",
    "resp = requests.get(f'https://www.metaweather.com/api/location/2487956/{dat}')\n",
    "weather = resp.json()\n",
    "weather[0]"
   ]
  },
  {
   "cell_type": "code",
   "execution_count": 86,
   "metadata": {},
   "outputs": [
    {
     "name": "stdout",
     "output_type": "stream",
     "text": [
      "13.404999999999998\n",
      "11.985\n",
      "11.3975\n"
     ]
    },
    {
     "data": {
      "text/plain": [
       "12.262499999999998"
      ]
     },
     "execution_count": 86,
     "metadata": {},
     "output_type": "execute_result"
    }
   ],
   "source": [
    "dateo = date.today()\n",
    "total = 0\n",
    "count = 0\n",
    "\n",
    "for i in range(1,4):\n",
    "    resp = requests.get(f'https://www.metaweather.com/api/location/2487956/{dateo.year}/{dateo.month}/{i}')\n",
    "    weath = resp.json()\n",
    "    avg = (weath[0]['max_temp']+weath[0]['min_temp'])/2\n",
    "    print(avg)\n",
    "    total += avg\n",
    "    count += 1\n",
    "\n"
   ]
  },
  {
   "cell_type": "code",
   "execution_count": null,
   "metadata": {},
   "outputs": [],
   "source": [
    "\n"
   ]
  },
  {
   "cell_type": "code",
   "execution_count": 87,
   "metadata": {},
   "outputs": [
    {
     "data": {
      "text/plain": [
       "'class Users(db.Model):\\n    username = db.Column(db.String(100), primary_key = True)\\n    email = db.Column(db.String(100))\\n    \\n    def __init__(self, _username, _email):\\n        self.username = _username \\n        self.email = _email\\n        \\n\\n    def put(self, username, email):\\n        pers = Users(username, email)\\n        db.session.commit(pers)\\n        \\n    target_record = User.query.filterby(username = username).first()'"
      ]
     },
     "execution_count": 87,
     "metadata": {},
     "output_type": "execute_result"
    }
   ],
   "source": [
    "'''class Users(db.Model):\n",
    "    username = db.Column(db.String(100), primary_key = True)\n",
    "    email = db.Column(db.String(100))\n",
    "    \n",
    "    def __init__(self, _username, _email):\n",
    "        self.username = _username \n",
    "        self.email = _email\n",
    "        \n",
    "\n",
    "    def put(self, username, email):\n",
    "        pers = Users(username, email)\n",
    "        db.session.commit(pers)\n",
    "        \n",
    "    target_record = User.query.filterby(username = username).first()'''"
   ]
  },
  {
   "cell_type": "code",
   "execution_count": 89,
   "metadata": {},
   "outputs": [
    {
     "data": {
      "text/plain": [
       "\"It's going to be cloudy!\""
      ]
     },
     "execution_count": 89,
     "metadata": {},
     "output_type": "execute_result"
    }
   ],
   "source": [
    "noww = date.today()\n",
    "dat = f'{noww.year}/{noww.month}/{noww.day}'\n",
    "resp = requests.get(f'https://www.metaweather.com/api/location/2487956/{dat}')\n",
    "weather = resp.json()\n",
    "\n",
    "    \n"
   ]
  },
  {
   "cell_type": "code",
   "execution_count": 103,
   "metadata": {},
   "outputs": [
    {
     "data": {
      "text/plain": [
       "\"Min temp: 7.96'\\n'Max Temp: 14.315\""
      ]
     },
     "execution_count": 103,
     "metadata": {},
     "output_type": "execute_result"
    }
   ],
   "source": [
    "curr_con = weather[0]['weather_state_abbr']\n",
    "if curr_con == 'lc':\n",
    "    subject = \"It's going to be cloudy!\"\n",
    "else:\n",
    "    subject = \"It's nice out today\"\n",
    "\n",
    "nl = '\\n'\n",
    "email = f\"Min temp: {weather[0]['min_temp']}Max Temp: {weather[0]['max_temp']}\"\n",
    "email"
   ]
  },
  {
   "cell_type": "code",
   "execution_count": 91,
   "metadata": {},
   "outputs": [
    {
     "data": {
      "text/plain": [
       "{'id': 6363587879632896,\n",
       " 'weather_state_name': 'Light Cloud',\n",
       " 'weather_state_abbr': 'lc',\n",
       " 'wind_direction_compass': 'NW',\n",
       " 'created': '2021-03-23T03:24:03.991424Z',\n",
       " 'applicable_date': '2021-03-22',\n",
       " 'min_temp': 7.96,\n",
       " 'max_temp': 14.315,\n",
       " 'the_temp': 15.3,\n",
       " 'wind_speed': 9.381270993223573,\n",
       " 'wind_direction': 309.9048869789122,\n",
       " 'air_pressure': 1020.5,\n",
       " 'humidity': 56,\n",
       " 'visibility': 16.61546568042631,\n",
       " 'predictability': 70}"
      ]
     },
     "execution_count": 91,
     "metadata": {},
     "output_type": "execute_result"
    }
   ],
   "source": [
    "weather[0]"
   ]
  },
  {
   "cell_type": "code",
   "execution_count": 106,
   "metadata": {},
   "outputs": [],
   "source": [
    "resp = requests.get(\"http://127.0.0.1:5000/weather/2487956/2020/05/15\")\n",
    "data = resp.json()"
   ]
  },
  {
   "cell_type": "code",
   "execution_count": 108,
   "metadata": {},
   "outputs": [
    {
     "data": {
      "text/plain": [
       "200"
      ]
     },
     "execution_count": 108,
     "metadata": {},
     "output_type": "execute_result"
    }
   ],
   "source": [
    "a = requests.put('http://127.0.0.1:5000/person/abdu',{'username':'Khan','email':'kingk@gmail.com'})\n",
    "a.json()"
   ]
  },
  {
   "cell_type": "code",
   "execution_count": 116,
   "metadata": {},
   "outputs": [
    {
     "data": {
      "text/plain": [
       "{'userid': 'abdu', 'username': 'Khan', 'email': 'kingk@gmail.com'}"
      ]
     },
     "execution_count": 116,
     "metadata": {},
     "output_type": "execute_result"
    }
   ],
   "source": [
    "a = requests.get('http://127.0.0.1:5000/person/abdu')\n",
    "a.json()"
   ]
  },
  {
   "cell_type": "code",
   "execution_count": 117,
   "metadata": {},
   "outputs": [],
   "source": [
    "now = datetime.utcnow()\n",
    "thirty_days_ago = now - timedelta(days=30)\n",
    "\n",
    "date_range_string = \"%s%s\" % (thirty_days_ago.strftime(\"%m%d\"), now.strftime(\"%m%d\"))"
   ]
  },
  {
   "cell_type": "code",
   "execution_count": 118,
   "metadata": {},
   "outputs": [
    {
     "data": {
      "text/plain": [
       "'02210323'"
      ]
     },
     "execution_count": 118,
     "metadata": {},
     "output_type": "execute_result"
    }
   ],
   "source": [
    "date_range_string"
   ]
  },
  {
   "cell_type": "code",
   "execution_count": 119,
   "metadata": {},
   "outputs": [
    {
     "data": {
      "text/plain": [
       "datetime.date(2021, 3, 23)"
      ]
     },
     "execution_count": 119,
     "metadata": {},
     "output_type": "execute_result"
    }
   ],
   "source": [
    "date.today()"
   ]
  },
  {
   "cell_type": "code",
   "execution_count": 129,
   "metadata": {},
   "outputs": [
    {
     "data": {
      "text/plain": [
       "datetime.datetime(2021, 2, 21, 0, 32, 10, 362217)"
      ]
     },
     "execution_count": 129,
     "metadata": {},
     "output_type": "execute_result"
    }
   ],
   "source": [
    "thirtydats = timedelta(days=30)\n",
    "(datetime.today() - thirtydats)"
   ]
  },
  {
   "cell_type": "code",
   "execution_count": 123,
   "metadata": {},
   "outputs": [
    {
     "data": {
      "text/plain": [
       "datetime.datetime(2021, 3, 23, 7, 30, 53, 5236)"
      ]
     },
     "execution_count": 123,
     "metadata": {},
     "output_type": "execute_result"
    }
   ],
   "source": [
    "datetime.utcnow()"
   ]
  },
  {
   "cell_type": "code",
   "execution_count": 132,
   "metadata": {},
   "outputs": [],
   "source": [
    "from datetime import datetime, timedelta, date"
   ]
  },
  {
   "cell_type": "code",
   "execution_count": 133,
   "metadata": {},
   "outputs": [
    {
     "data": {
      "text/plain": [
       "datetime.date(2021, 3, 23)"
      ]
     },
     "execution_count": 133,
     "metadata": {},
     "output_type": "execute_result"
    }
   ],
   "source": [
    "now = date.today()\n",
    "now"
   ]
  },
  {
   "cell_type": "code",
   "execution_count": 134,
   "metadata": {},
   "outputs": [
    {
     "data": {
      "text/plain": [
       "datetime.date(2021, 2, 21)"
      ]
     },
     "execution_count": 134,
     "metadata": {},
     "output_type": "execute_result"
    }
   ],
   "source": [
    "deltatime = timedelta(days=30)\n",
    "old = now - deltatime\n",
    "old"
   ]
  },
  {
   "cell_type": "code",
   "execution_count": 135,
   "metadata": {},
   "outputs": [],
   "source": [
    "import requests"
   ]
  },
  {
   "cell_type": "code",
   "execution_count": 140,
   "metadata": {},
   "outputs": [],
   "source": [
    "a = requests.get('http://127.0.0.1:5000/person/kingkhan')\n",
    "alpha = a.json()"
   ]
  },
  {
   "cell_type": "code",
   "execution_count": 141,
   "metadata": {},
   "outputs": [
    {
     "data": {
      "text/plain": [
       "{'userid': 'kingkhan', 'username': 'Abdullah', 'email': 'a@gmail.com'}"
      ]
     },
     "execution_count": 141,
     "metadata": {},
     "output_type": "execute_result"
    }
   ],
   "source": [
    "alpha"
   ]
  },
  {
   "cell_type": "code",
   "execution_count": 142,
   "metadata": {},
   "outputs": [
    {
     "data": {
      "text/plain": [
       "str"
      ]
     },
     "execution_count": 142,
     "metadata": {},
     "output_type": "execute_result"
    }
   ],
   "source": [
    "jstr = json.dumps(alpha)\n",
    "type(jstr)"
   ]
  },
  {
   "cell_type": "code",
   "execution_count": 143,
   "metadata": {},
   "outputs": [
    {
     "data": {
      "text/plain": [
       "'{\"userid\": \"kingkhan\", \"username\": \"Abdullah\", \"email\": \"a@gmail.com\"}'"
      ]
     },
     "execution_count": 143,
     "metadata": {},
     "output_type": "execute_result"
    }
   ],
   "source": [
    "jstr"
   ]
  },
  {
   "cell_type": "code",
   "execution_count": null,
   "metadata": {},
   "outputs": [],
   "source": []
  }
 ],
 "metadata": {
  "kernelspec": {
   "display_name": "Python 3",
   "language": "python",
   "name": "python3"
  },
  "language_info": {
   "codemirror_mode": {
    "name": "ipython",
    "version": 3
   },
   "file_extension": ".py",
   "mimetype": "text/x-python",
   "name": "python",
   "nbconvert_exporter": "python",
   "pygments_lexer": "ipython3",
   "version": "3.8.5"
  }
 },
 "nbformat": 4,
 "nbformat_minor": 4
}
